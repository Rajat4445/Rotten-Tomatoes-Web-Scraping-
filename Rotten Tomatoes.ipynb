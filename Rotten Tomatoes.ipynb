{
 "cells": [
  {
   "cell_type": "markdown",
   "id": "873e7aa9",
   "metadata": {},
   "source": [
    "<h1  style=\"text-align: center\"  class=\"list-group-item list-group-item-warning\"> <span style=\"color:#2E6AA9\">Rotten Tomatoes Web Scraping</span>  </h1>"
   ]
  },
  {
   "cell_type": "markdown",
   "id": "9ef05d92",
   "metadata": {},
   "source": [
    "<img src=\"Screenshot 2022-08-26 at 5.11.58 PM.png\">\n",
    "\n",
    "\n",
    "<b>Objective</b>: Rotten Tomatoes is a popular movie review website and suggests movies in different categories. We want the information such as Movie title, year of release, rating, cast and other details of the top 140 action movies to watch now.\n"
   ]
  },
  {
   "cell_type": "code",
   "execution_count": 1,
   "id": "6cfc70c6",
   "metadata": {},
   "outputs": [],
   "source": [
    "import requests                 # Retrieving data from the website\n",
    "from bs4 import BeautifulSoup          # Used for performing Web Scraping"
   ]
  },
  {
   "cell_type": "code",
   "execution_count": 2,
   "id": "a1e3d147",
   "metadata": {},
   "outputs": [],
   "source": [
    "# Website we are going to scrape data from\n",
    "base_site = 'https://editorial.rottentomatoes.com/guide/140-essential-action-movies-to-watch-now/'"
   ]
  },
  {
   "cell_type": "code",
   "execution_count": 3,
   "id": "1aea9171",
   "metadata": {},
   "outputs": [
    {
     "data": {
      "text/plain": [
       "<Response [200]>"
      ]
     },
     "execution_count": 3,
     "metadata": {},
     "output_type": "execute_result"
    }
   ],
   "source": [
    "response = requests.get(base_site)       ## Requesting the base_site for the code\n",
    "response"
   ]
  },
  {
   "cell_type": "code",
   "execution_count": 4,
   "id": "b68f36d0",
   "metadata": {},
   "outputs": [],
   "source": [
    "html = response.content          ## Getting all the content (HTML code) from the response"
   ]
  },
  {
   "cell_type": "markdown",
   "id": "7054661c",
   "metadata": {},
   "source": [
    "## Choosing a parser"
   ]
  },
  {
   "cell_type": "code",
   "execution_count": 5,
   "id": "f2322b44",
   "metadata": {},
   "outputs": [],
   "source": [
    "soup = BeautifulSoup(html, 'lxml' )    ## Html parser is not good"
   ]
  },
  {
   "cell_type": "code",
   "execution_count": 6,
   "id": "e85528c0",
   "metadata": {},
   "outputs": [],
   "source": [
    "with open('Rotten_Tomatoes_lxml.html', 'wb') as file:\n",
    "    file.write(soup.prettify('utf-8'))       ## Saving the HTML file in the directory"
   ]
  },
  {
   "cell_type": "markdown",
   "id": "32d468c4",
   "metadata": {},
   "source": [
    "## Obtaining the elements containing all the data"
   ]
  },
  {
   "cell_type": "code",
   "execution_count": 8,
   "id": "419e41e2",
   "metadata": {},
   "outputs": [
    {
     "data": {
      "text/plain": [
       "<div class=\"col-sm-18 col-full-xs countdown-item-content\">\n",
       "<div class=\"row countdown-item-title-bar\">\n",
       "<div class=\"col-sm-20 col-full-xs\" style=\"height: 100%;\">\n",
       "<div class=\"article_movie_title\" style=\"float: left;\">\n",
       "<div><h2><a href=\"https://www.rottentomatoes.com/m/1018009-running_scared\">Running Scared</a> <span class=\"subtle start-year\">(1986)</span> <span class=\"icon tiny rotten\" title=\"Rotten\"></span> <span class=\"tMeterScore\">59%</span></h2></div>\n",
       "</div>\n",
       "</div>\n",
       "<div class=\"col-sm-4 col-full-xs\" style=\"height: 100%;\">\n",
       "<div class=\"countdown-index\">#140</div>\n",
       "</div>\n",
       "</div>\n",
       "<div class=\"row countdown-item-details\">\n",
       "<div class=\"col-sm-24\">\n",
       "<div class=\"info countdown-adjusted-score\"><span class=\"descriptor\">Adjusted Score: </span>59010% <span class=\"glyphicon glyphicon-question-sign\" data-html=\"true\" data-original-title=\"The Adjusted Score comes from a weighted formula (Bayesian) that we use that accounts for variation in the number of reviews per movie.\" data-placement=\"top\" data-toggle=\"tooltip\" rel=\"tooltip\" title=\"\"></span></div>\n",
       "<div class=\"info critics-consensus\"><span class=\"descriptor\">Critics Consensus:</span> <em>Running Scared</em> struggles to strike a consistent balance between violent action and humor, but the chemistry between its well-matched leads keeps things entertaining.</div>\n",
       "<div class=\"info synopsis\"><span class=\"descriptor\">Synopsis:</span> Ray and Danny (Gregory Hines, Billy Crystal) are two Chicago police detectives hot on the trail of drug kingpin Julio...<a class=\"\" data-pageheader=\"\" href=\"https://www.rottentomatoes.com/m/1018009-running_scared\" target=\"_top\"> [More]</a></div>\n",
       "<div class=\"info cast\">\n",
       "<span class=\"descriptor\">Starring:</span> <a class=\"\" href=\"//www.rottentomatoes.com/celebrity/gregory_hines\">Gregory Hines</a>, <a class=\"\" href=\"//www.rottentomatoes.com/celebrity/billy_crystal\">Billy Crystal</a>, <a class=\"\" href=\"//www.rottentomatoes.com/celebrity/jimmy_smits\">Jimmy Smits</a>, <a class=\"\" href=\"//www.rottentomatoes.com/celebrity/steven_bauer\">Steven Bauer</a></div>\n",
       "<div class=\"info director\">\n",
       "<span class=\"descriptor\">Directed By:</span> <a class=\"\" href=\"//www.rottentomatoes.com/celebrity/peter_hyams\">Peter Hyams</a></div>\n",
       "</div>\n",
       "</div>\n",
       "</div>"
      ]
     },
     "execution_count": 8,
     "metadata": {},
     "output_type": "execute_result"
    }
   ],
   "source": [
    "# All the movies have their respective informations saved in 'class' = 'col-sm-18 col-full-xs countdown-item-content'\n",
    "divs = soup.find_all('div', {'class': 'col-sm-18 col-full-xs countdown-item-content'})  \n",
    "divs[0]        # Only first element"
   ]
  },
  {
   "cell_type": "markdown",
   "id": "06827eae",
   "metadata": {},
   "source": [
    "## Extracting the title and year of the movie"
   ]
  },
  {
   "cell_type": "code",
   "execution_count": 11,
   "id": "ccf7fc5e",
   "metadata": {},
   "outputs": [
    {
     "data": {
      "text/plain": [
       "[<h2><a href=\"https://www.rottentomatoes.com/m/1018009-running_scared\">Running Scared</a> <span class=\"subtle start-year\">(1986)</span> <span class=\"icon tiny rotten\" title=\"Rotten\"></span> <span class=\"tMeterScore\">59%</span></h2>,\n",
       " <h2><a href=\"https://www.rottentomatoes.com/m/equilibrium\">Equilibrium</a> <span class=\"subtle start-year\">(2002)</span> <span class=\"icon tiny rotten\" title=\"Rotten\"></span> <span class=\"tMeterScore\">40%</span></h2>,\n",
       " <h2><a href=\"https://www.rottentomatoes.com/m/hero\">Hero</a> <span class=\"subtle start-year\">(2002)</span> <span class=\"icon tiny certified\" title=\"Certified Fresh\"></span> <span class=\"tMeterScore\">94%</span></h2>,\n",
       " <h2><a href=\"https://www.rottentomatoes.com/m/1017666-road_house\">Road House</a> <span class=\"subtle start-year\">(1989)</span> <span class=\"icon tiny rotten\" title=\"Rotten\"></span> <span class=\"tMeterScore\">37%</span></h2>,\n",
       " <h2><a href=\"https://www.rottentomatoes.com/m/unstoppable-2010\">Unstoppable</a> <span class=\"subtle start-year\">(2010)</span> <span class=\"icon tiny certified\" title=\"Certified Fresh\"></span> <span class=\"tMeterScore\">87%</span></h2>]"
      ]
     },
     "execution_count": 11,
     "metadata": {},
     "output_type": "execute_result"
    }
   ],
   "source": [
    "heading = [div.find('h2') for div in divs]     ## All the movie information is in the 'h2' tag\n",
    "heading[:5]          ## First five elements"
   ]
  },
  {
   "cell_type": "code",
   "execution_count": 10,
   "id": "c14dc45a",
   "metadata": {},
   "outputs": [
    {
     "data": {
      "text/plain": [
       "<h2><a href=\"https://www.rottentomatoes.com/m/1018009-running_scared\">Running Scared</a> <span class=\"subtle start-year\">(1986)</span> <span class=\"icon tiny rotten\" title=\"Rotten\"></span> <span class=\"tMeterScore\">59%</span></h2>"
      ]
     },
     "execution_count": 10,
     "metadata": {},
     "output_type": "execute_result"
    }
   ],
   "source": [
    "heading[0]"
   ]
  },
  {
   "cell_type": "markdown",
   "id": "d08528f7",
   "metadata": {},
   "source": [
    "## Title of the movie"
   ]
  },
  {
   "cell_type": "code",
   "execution_count": 12,
   "id": "b0a6e492",
   "metadata": {},
   "outputs": [
    {
     "data": {
      "text/plain": [
       "['Running Scared', 'Equilibrium', 'Hero', 'Road House', 'Unstoppable']"
      ]
     },
     "execution_count": 12,
     "metadata": {},
     "output_type": "execute_result"
    }
   ],
   "source": [
    "movie_names = [heading.find('a').string for heading in heading]  # Look at the 'a' attribute in previous output\n",
    "movie_names[:5]    ## First five titles"
   ]
  },
  {
   "cell_type": "markdown",
   "id": "f387fd01",
   "metadata": {},
   "source": [
    "## Year of the movie"
   ]
  },
  {
   "cell_type": "code",
   "execution_count": 13,
   "id": "9452b580",
   "metadata": {},
   "outputs": [
    {
     "data": {
      "text/plain": [
       "['(1986)', '(2002)', '(2002)', '(1989)', '(2010)']"
      ]
     },
     "execution_count": 13,
     "metadata": {},
     "output_type": "execute_result"
    }
   ],
   "source": [
    "years = [heading.find('span', class_ = 'subtle start-year').string for heading in heading]\n",
    "years[:5]     ## Year of release of first five movies"
   ]
  },
  {
   "cell_type": "markdown",
   "id": "70a39515",
   "metadata": {},
   "source": [
    "## Removing the brackets from the years"
   ]
  },
  {
   "cell_type": "code",
   "execution_count": 14,
   "id": "a26ed470",
   "metadata": {},
   "outputs": [
    {
     "data": {
      "text/plain": [
       "'1986'"
      ]
     },
     "execution_count": 14,
     "metadata": {},
     "output_type": "execute_result"
    }
   ],
   "source": [
    "years[0].strip('()')     ## .strip removes or truncates the given characters from the beginning and the end \n",
    "                        #   of the original string. does not remove any other symbol"
   ]
  },
  {
   "cell_type": "code",
   "execution_count": 15,
   "id": "6d598e22",
   "metadata": {},
   "outputs": [
    {
     "data": {
      "text/plain": [
       "['1986', '2002', '2002', '1989', '2010']"
      ]
     },
     "execution_count": 15,
     "metadata": {},
     "output_type": "execute_result"
    }
   ],
   "source": [
    "years = [year.strip('()') for year in years]    # We also need to convert them into integers\n",
    "years[:5]      "
   ]
  },
  {
   "cell_type": "code",
   "execution_count": 16,
   "id": "7b4c8a13",
   "metadata": {},
   "outputs": [
    {
     "data": {
      "text/plain": [
       "[1986, 2002, 2002, 1989, 2010]"
      ]
     },
     "execution_count": 16,
     "metadata": {},
     "output_type": "execute_result"
    }
   ],
   "source": [
    "years = [int(year) for year in years]    ## Converting years into integers\n",
    "years[:5]"
   ]
  },
  {
   "cell_type": "markdown",
   "id": "ab51e6d4",
   "metadata": {},
   "source": [
    "## Extracting Score of the movie"
   ]
  },
  {
   "cell_type": "code",
   "execution_count": 17,
   "id": "bdf1f1d8",
   "metadata": {},
   "outputs": [
    {
     "data": {
      "text/plain": [
       "['59%', '40%', '94%', '37%', '87%']"
      ]
     },
     "execution_count": 17,
     "metadata": {},
     "output_type": "execute_result"
    }
   ],
   "source": [
    "scores = [heading.find('span', class_ = 'tMeterScore').string for heading in heading]\n",
    "scores[:5]     ## First 5 scores"
   ]
  },
  {
   "cell_type": "code",
   "execution_count": 18,
   "id": "12756f9f",
   "metadata": {},
   "outputs": [
    {
     "data": {
      "text/plain": [
       "['59', '40', '94', '37', '87']"
      ]
     },
     "execution_count": 18,
     "metadata": {},
     "output_type": "execute_result"
    }
   ],
   "source": [
    "scores = [score.strip('%') for score in scores]\n",
    "scores[:5]   ## % sign removed"
   ]
  },
  {
   "cell_type": "code",
   "execution_count": 19,
   "id": "21268518",
   "metadata": {},
   "outputs": [
    {
     "data": {
      "text/plain": [
       "[59, 40, 94, 37, 87]"
      ]
     },
     "execution_count": 19,
     "metadata": {},
     "output_type": "execute_result"
    }
   ],
   "source": [
    "scores = [int(score) for score in scores]\n",
    "scores[:5]    ## Into integers"
   ]
  },
  {
   "cell_type": "markdown",
   "id": "fb304241",
   "metadata": {},
   "source": [
    "## Extracting the rest of  information"
   ]
  },
  {
   "cell_type": "markdown",
   "id": "cbe9d27d",
   "metadata": {},
   "source": [
    "## Critics Consensus"
   ]
  },
  {
   "cell_type": "code",
   "execution_count": 20,
   "id": "9d1d529d",
   "metadata": {},
   "outputs": [
    {
     "data": {
      "text/plain": [
       "[<div class=\"info critics-consensus\"><span class=\"descriptor\">Critics Consensus:</span> <em>Running Scared</em> struggles to strike a consistent balance between violent action and humor, but the chemistry between its well-matched leads keeps things entertaining.</div>,\n",
       " <div class=\"info critics-consensus\"><span class=\"descriptor\">Critics Consensus:</span> Equilibrium is a reheated mishmash of other sci-fi movies.</div>,\n",
       " <div class=\"info critics-consensus\"><span class=\"descriptor\">Critics Consensus:</span> With death-defying action sequences and epic historic sweep, <em>Hero</em> offers everything a martial arts fan could ask for.</div>,\n",
       " <div class=\"info critics-consensus\"><span class=\"descriptor\">Critics Consensus:</span> Whether <em>Road House</em> is simply bad or so bad it's good depends largely on the audience's fondness for Swayze -- and tolerance for violently cheesy action.</div>,\n",
       " <div class=\"info critics-consensus\"><span class=\"descriptor\">Critics Consensus:</span> As fast, loud, and relentless as the train at the center of the story, <em>Unstoppable</em> is perfect popcorn entertainment -- and director Tony Scott's best movie in years.</div>]"
      ]
     },
     "execution_count": 20,
     "metadata": {},
     "output_type": "execute_result"
    }
   ],
   "source": [
    "consensus = [div.find('div', {'class': 'info critics-consensus'}) for div in divs]\n",
    "consensus[:5]        ## First five consensus"
   ]
  },
  {
   "cell_type": "code",
   "execution_count": 21,
   "id": "071214a9",
   "metadata": {},
   "outputs": [
    {
     "data": {
      "text/plain": [
       "['Critics Consensus: Running Scared struggles to strike a consistent balance between violent action and humor, but the chemistry between its well-matched leads keeps things entertaining.',\n",
       " 'Critics Consensus: Equilibrium is a reheated mishmash of other sci-fi movies.',\n",
       " 'Critics Consensus: With death-defying action sequences and epic historic sweep, Hero offers everything a martial arts fan could ask for.',\n",
       " \"Critics Consensus: Whether Road House is simply bad or so bad it's good depends largely on the audience's fondness for Swayze -- and tolerance for violently cheesy action.\",\n",
       " \"Critics Consensus: As fast, loud, and relentless as the train at the center of the story, Unstoppable is perfect popcorn entertainment -- and director Tony Scott's best movie in years.\"]"
      ]
     },
     "execution_count": 21,
     "metadata": {},
     "output_type": "execute_result"
    }
   ],
   "source": [
    "[con.text for con in consensus][:5]    ## We have to remove 'Critics Consensus' here"
   ]
  },
  {
   "cell_type": "markdown",
   "id": "dc865c29",
   "metadata": {},
   "source": [
    "## Using HTML (We can use strip)"
   ]
  },
  {
   "cell_type": "code",
   "execution_count": 22,
   "id": "12f04306",
   "metadata": {},
   "outputs": [
    {
     "data": {
      "text/plain": [
       "<div class=\"info critics-consensus\"><span class=\"descriptor\">Critics Consensus:</span> <em>Running Scared</em> struggles to strike a consistent balance between violent action and humor, but the chemistry between its well-matched leads keeps things entertaining.</div>"
      ]
     },
     "execution_count": 22,
     "metadata": {},
     "output_type": "execute_result"
    }
   ],
   "source": [
    "consensus[0]  # the common phrase is in span class = 'descriptor' and we have to remove the space too"
   ]
  },
  {
   "cell_type": "code",
   "execution_count": 23,
   "id": "90bd1edc",
   "metadata": {},
   "outputs": [
    {
     "data": {
      "text/plain": [
       "'Critics Consensus: Running Scared struggles to strike a consistent balance between violent action and humor, but the chemistry between its well-matched leads keeps things entertaining.'"
      ]
     },
     "execution_count": 23,
     "metadata": {},
     "output_type": "execute_result"
    }
   ],
   "source": [
    "consensus[0].text"
   ]
  },
  {
   "cell_type": "code",
   "execution_count": 24,
   "id": "1a12ff6b",
   "metadata": {},
   "outputs": [
    {
     "data": {
      "text/plain": [
       "'Critics Consensus: With death-defying action sequences and epic historic sweep, Hero offers everything a martial arts fan could ask for.'"
      ]
     },
     "execution_count": 24,
     "metadata": {},
     "output_type": "execute_result"
    }
   ],
   "source": [
    "consensus[2].text"
   ]
  },
  {
   "cell_type": "code",
   "execution_count": 25,
   "id": "a40dd7c8",
   "metadata": {},
   "outputs": [],
   "source": [
    "com_phrase = 'Critics Consensus: '\n",
    "com_len = len(com_phrase)"
   ]
  },
  {
   "cell_type": "code",
   "execution_count": 27,
   "id": "0c43cec2",
   "metadata": {},
   "outputs": [
    {
     "data": {
      "text/plain": [
       "['Running Scared struggles to strike a consistent balance between violent action and humor, but the chemistry between its well-matched leads keeps things entertaining.',\n",
       " 'Equilibrium is a reheated mishmash of other sci-fi movies.',\n",
       " 'With death-defying action sequences and epic historic sweep, Hero offers everything a martial arts fan could ask for.',\n",
       " \"Whether Road House is simply bad or so bad it's good depends largely on the audience's fondness for Swayze -- and tolerance for violently cheesy action.\",\n",
       " \"As fast, loud, and relentless as the train at the center of the story, Unstoppable is perfect popcorn entertainment -- and director Tony Scott's best movie in years.\"]"
      ]
     },
     "execution_count": 27,
     "metadata": {},
     "output_type": "execute_result"
    }
   ],
   "source": [
    "consensus_text = [consensus.text[com_len:] if consensus.text.startswith(com_phrase) else consensus.text \n",
    "                  for consensus in consensus]\n",
    "consensus_text[:5]    ## First five consensus with common phrase removed"
   ]
  },
  {
   "cell_type": "markdown",
   "id": "bed4b646",
   "metadata": {},
   "source": [
    "## Directors"
   ]
  },
  {
   "cell_type": "code",
   "execution_count": 28,
   "id": "b5df6f4e",
   "metadata": {},
   "outputs": [
    {
     "data": {
      "text/plain": [
       "[<div class=\"info director\">\n",
       " <span class=\"descriptor\">Directed By:</span> <a class=\"\" href=\"//www.rottentomatoes.com/celebrity/peter_hyams\">Peter Hyams</a></div>,\n",
       " <div class=\"info director\">\n",
       " <span class=\"descriptor\">Directed By:</span> <a class=\"\" href=\"//www.rottentomatoes.com/celebrity/kurt_wimmer\">Kurt Wimmer</a></div>,\n",
       " <div class=\"info director\">\n",
       " <span class=\"descriptor\">Directed By:</span> <a class=\"\" href=\"//www.rottentomatoes.com/celebrity/zhang_yimou\">Zhang Yimou</a></div>,\n",
       " <div class=\"info director\">\n",
       " <span class=\"descriptor\">Directed By:</span> <a class=\"\" href=\"//www.rottentomatoes.com/celebrity/rowdy_herrington\">Rowdy Herrington</a></div>,\n",
       " <div class=\"info director\">\n",
       " <span class=\"descriptor\">Directed By:</span> <a class=\"\" href=\"//www.rottentomatoes.com/celebrity/tony_scott\">Tony Scott</a></div>]"
      ]
     },
     "execution_count": 28,
     "metadata": {},
     "output_type": "execute_result"
    }
   ],
   "source": [
    "directors = [div.find('div', class_ = 'info director') for div in divs]\n",
    "directors[:5]    ## First five directors"
   ]
  },
  {
   "cell_type": "code",
   "execution_count": 29,
   "id": "2bfe23f7",
   "metadata": {},
   "outputs": [
    {
     "data": {
      "text/plain": [
       "<div class=\"info director\">\n",
       "<span class=\"descriptor\">Directed By:</span> <a class=\"\" href=\"//www.rottentomatoes.com/celebrity/peter_hyams\">Peter Hyams</a></div>"
      ]
     },
     "execution_count": 29,
     "metadata": {},
     "output_type": "execute_result"
    }
   ],
   "source": [
    "directors[0]"
   ]
  },
  {
   "cell_type": "code",
   "execution_count": 30,
   "id": "aa4635f1",
   "metadata": {},
   "outputs": [
    {
     "data": {
      "text/plain": [
       "['Peter Hyams', 'Kurt Wimmer', 'Zhang Yimou', 'Rowdy Herrington', 'Tony Scott']"
      ]
     },
     "execution_count": 30,
     "metadata": {},
     "output_type": "execute_result"
    }
   ],
   "source": [
    "directors = [director.find('a').string for director in directors]\n",
    "directors[:5]      \n",
    "\n",
    "# if there is no director for a movie\n",
    "# directors = [None if director.find('a') is None else director.find('a').string for director in directors]"
   ]
  },
  {
   "cell_type": "markdown",
   "id": "844e43f5",
   "metadata": {},
   "source": [
    "## Cast Info"
   ]
  },
  {
   "cell_type": "code",
   "execution_count": 31,
   "id": "8562ed2f",
   "metadata": {},
   "outputs": [
    {
     "data": {
      "text/plain": [
       "[<div class=\"info cast\">\n",
       " <span class=\"descriptor\">Starring:</span> <a class=\"\" href=\"//www.rottentomatoes.com/celebrity/gregory_hines\">Gregory Hines</a>, <a class=\"\" href=\"//www.rottentomatoes.com/celebrity/billy_crystal\">Billy Crystal</a>, <a class=\"\" href=\"//www.rottentomatoes.com/celebrity/jimmy_smits\">Jimmy Smits</a>, <a class=\"\" href=\"//www.rottentomatoes.com/celebrity/steven_bauer\">Steven Bauer</a></div>,\n",
       " <div class=\"info cast\">\n",
       " <span class=\"descriptor\">Starring:</span> <a class=\"\" href=\"//www.rottentomatoes.com/celebrity/christian_bale\">Christian Bale</a>, <a class=\"\" href=\"//www.rottentomatoes.com/celebrity/emily_watson\">Emily Watson</a>, <a class=\"\" href=\"//www.rottentomatoes.com/celebrity/taye_diggs\">Taye Diggs</a>, <a class=\"\" href=\"//www.rottentomatoes.com/celebrity/angus_macfadyen\">Angus Macfadyen</a></div>,\n",
       " <div class=\"info cast\">\n",
       " <span class=\"descriptor\">Starring:</span> <a class=\"\" href=\"//www.rottentomatoes.com/celebrity/jet_li\">Jet Li</a>, <a class=\"\" href=\"//www.rottentomatoes.com/celebrity/tony_leung\">Tony Leung Chiu Wai</a>, <a class=\"\" href=\"//www.rottentomatoes.com/celebrity/maggie_cheung\">Maggie Cheung Man-yuk</a>, <a class=\"\" href=\"//www.rottentomatoes.com/celebrity/donnie_yen\">Donnie Yen</a></div>,\n",
       " <div class=\"info cast\">\n",
       " <span class=\"descriptor\">Starring:</span> <a class=\"\" href=\"//www.rottentomatoes.com/celebrity/patrick_swayze\">Patrick Swayze</a>, <a class=\"\" href=\"//www.rottentomatoes.com/celebrity/kelly_lynch\">Kelly Lynch</a>, <a class=\"\" href=\"//www.rottentomatoes.com/celebrity/sam_elliot\">Sam Elliott</a>, <a class=\"\" href=\"//www.rottentomatoes.com/celebrity/ben_gazzara\">Ben Gazzara</a></div>,\n",
       " <div class=\"info cast\">\n",
       " <span class=\"descriptor\">Starring:</span> <a class=\"\" href=\"//www.rottentomatoes.com/celebrity/denzel_washington\">Denzel Washington</a>, <a class=\"\" href=\"//www.rottentomatoes.com/celebrity/christopher_pine\">Chris Pine</a>, <a class=\"\" href=\"//www.rottentomatoes.com/celebrity/rasario_dawson\">Rosario Dawson</a>, <a class=\"\" href=\"//www.rottentomatoes.com/celebrity/kevin_dunn_2\">Kevin Dunn</a></div>]"
      ]
     },
     "execution_count": 31,
     "metadata": {},
     "output_type": "execute_result"
    }
   ],
   "source": [
    "cast_info = [div.find('div', class_ = 'info cast') for div in divs]\n",
    "cast_info[:5]"
   ]
  },
  {
   "cell_type": "code",
   "execution_count": 32,
   "id": "59d9e50b",
   "metadata": {},
   "outputs": [
    {
     "data": {
      "text/plain": [
       "<div class=\"info cast\">\n",
       "<span class=\"descriptor\">Starring:</span> <a class=\"\" href=\"//www.rottentomatoes.com/celebrity/gregory_hines\">Gregory Hines</a>, <a class=\"\" href=\"//www.rottentomatoes.com/celebrity/billy_crystal\">Billy Crystal</a>, <a class=\"\" href=\"//www.rottentomatoes.com/celebrity/jimmy_smits\">Jimmy Smits</a>, <a class=\"\" href=\"//www.rottentomatoes.com/celebrity/steven_bauer\">Steven Bauer</a></div>"
      ]
     },
     "execution_count": 32,
     "metadata": {},
     "output_type": "execute_result"
    }
   ],
   "source": [
    "cast_info[0]"
   ]
  },
  {
   "cell_type": "code",
   "execution_count": 33,
   "id": "46ee3e04",
   "metadata": {},
   "outputs": [
    {
     "data": {
      "text/plain": [
       "[<a class=\"\" href=\"//www.rottentomatoes.com/celebrity/gregory_hines\">Gregory Hines</a>,\n",
       " <a class=\"\" href=\"//www.rottentomatoes.com/celebrity/billy_crystal\">Billy Crystal</a>,\n",
       " <a class=\"\" href=\"//www.rottentomatoes.com/celebrity/jimmy_smits\">Jimmy Smits</a>,\n",
       " <a class=\"\" href=\"//www.rottentomatoes.com/celebrity/steven_bauer\">Steven Bauer</a>]"
      ]
     },
     "execution_count": 33,
     "metadata": {},
     "output_type": "execute_result"
    }
   ],
   "source": [
    "## We have to decide the format of the cast info\n",
    "\n",
    "cast_links = cast_info[0].find_all('a')\n",
    "cast_links"
   ]
  },
  {
   "cell_type": "code",
   "execution_count": 34,
   "id": "c970bdfa",
   "metadata": {},
   "outputs": [
    {
     "data": {
      "text/plain": [
       "['Gregory Hines', 'Billy Crystal', 'Jimmy Smits', 'Steven Bauer']"
      ]
     },
     "execution_count": 34,
     "metadata": {},
     "output_type": "execute_result"
    }
   ],
   "source": [
    "cast_name = [link.string for link in cast_links]\n",
    "cast_name"
   ]
  },
  {
   "cell_type": "code",
   "execution_count": 35,
   "id": "cbf126a9",
   "metadata": {},
   "outputs": [
    {
     "data": {
      "text/plain": [
       "'Gregory Hines, Billy Crystal, Jimmy Smits, Steven Bauer'"
      ]
     },
     "execution_count": 35,
     "metadata": {},
     "output_type": "execute_result"
    }
   ],
   "source": [
    "cast = ', '.join(cast_name)\n",
    "cast"
   ]
  },
  {
   "cell_type": "code",
   "execution_count": 36,
   "id": "15b97055",
   "metadata": {},
   "outputs": [
    {
     "data": {
      "text/plain": [
       "['Gregory Hines, Billy Crystal, Jimmy Smits, Steven Bauer',\n",
       " 'Christian Bale, Emily Watson, Taye Diggs, Angus Macfadyen',\n",
       " 'Jet Li, Tony Leung Chiu Wai, Maggie Cheung Man-yuk, Donnie Yen',\n",
       " 'Patrick Swayze, Kelly Lynch, Sam Elliott, Ben Gazzara',\n",
       " 'Denzel Washington, Chris Pine, Rosario Dawson, Kevin Dunn']"
      ]
     },
     "execution_count": 36,
     "metadata": {},
     "output_type": "execute_result"
    }
   ],
   "source": [
    "## Applying the above method on all the movies\n",
    "\n",
    "## Using for loop\n",
    "\n",
    "cast = []\n",
    "\n",
    "for c in cast_info:\n",
    "    cast_links = c.find_all('a')\n",
    "    cast_names = [link.string for link in cast_links]\n",
    "    result = ', '.join(cast_names)\n",
    "    \n",
    "    cast.append(result)\n",
    "    \n",
    "cast[:5]\n",
    "\n",
    "## Using the list comprehension\n",
    "\n",
    "# cast = [', '.join([link.string for link in c.find_all('a')]) for c in cast_info]"
   ]
  },
  {
   "cell_type": "markdown",
   "id": "d3321453",
   "metadata": {},
   "source": [
    "## Synopsis"
   ]
  },
  {
   "cell_type": "code",
   "execution_count": 37,
   "id": "84ecce3e",
   "metadata": {},
   "outputs": [
    {
     "data": {
      "text/plain": [
       "[<div class=\"info synopsis\"><span class=\"descriptor\">Synopsis:</span> Ray and Danny (Gregory Hines, Billy Crystal) are two Chicago police detectives hot on the trail of drug kingpin Julio...<a class=\"\" data-pageheader=\"\" href=\"https://www.rottentomatoes.com/m/1018009-running_scared\" target=\"_top\"> [More]</a></div>,\n",
       " <div class=\"info synopsis\"><span class=\"descriptor\">Synopsis:</span> In a futuristic world, a regime has eliminated war by suppressing emotions: books, art and music are strictly forbidden and...<a class=\"\" data-pageheader=\"\" href=\"https://www.rottentomatoes.com/m/equilibrium\" target=\"_top\"> [More]</a></div>,\n",
       " <div class=\"info synopsis\"><span class=\"descriptor\">Synopsis:</span> In this visually arresting martial arts epic set in ancient China, an unnamed fighter (Jet Li) is being honored for...<a class=\"\" data-pageheader=\"\" href=\"https://www.rottentomatoes.com/m/hero\" target=\"_top\"> [More]</a></div>,\n",
       " <div class=\"info synopsis\"><span class=\"descriptor\">Synopsis:</span> The Double Deuce is the meanest, loudest and rowdiest bar south of the Mason-Dixon Line, and Dalton (Patrick Swayze) has...<a class=\"\" data-pageheader=\"\" href=\"https://www.rottentomatoes.com/m/1017666-road_house\" target=\"_top\"> [More]</a></div>,\n",
       " <div class=\"info synopsis\"><span class=\"descriptor\">Synopsis:</span> When a massive, unmanned locomotive roars out of control, the threat is more ominous than just a derailment. The train...<a class=\"\" data-pageheader=\"\" href=\"https://www.rottentomatoes.com/m/unstoppable-2010\" target=\"_top\"> [More]</a></div>]"
      ]
     },
     "execution_count": 37,
     "metadata": {},
     "output_type": "execute_result"
    }
   ],
   "source": [
    "synos = [div.find('div', class_ = 'info synopsis') for div in divs]\n",
    "synos[:5]"
   ]
  },
  {
   "cell_type": "code",
   "execution_count": 38,
   "id": "04fc2d54",
   "metadata": {},
   "outputs": [
    {
     "data": {
      "text/plain": [
       "'Synopsis: Ray and Danny (Gregory Hines, Billy Crystal) are two Chicago police detectives hot on the trail of drug kingpin Julio... [More]'"
      ]
     },
     "execution_count": 38,
     "metadata": {},
     "output_type": "execute_result"
    }
   ],
   "source": [
    "synos[0].text"
   ]
  },
  {
   "cell_type": "code",
   "execution_count": 39,
   "id": "2b57bb6d",
   "metadata": {},
   "outputs": [
    {
     "data": {
      "text/plain": [
       "['Synopsis: Ray and Danny (Gregory Hines, Billy Crystal) are two Chicago police detectives hot on the trail of drug kingpin Julio... [More]',\n",
       " 'Synopsis: In a futuristic world, a regime has eliminated war by suppressing emotions: books, art and music are strictly forbidden and... [More]',\n",
       " 'Synopsis: In this visually arresting martial arts epic set in ancient China, an unnamed fighter (Jet Li) is being honored for... [More]',\n",
       " 'Synopsis: The Double Deuce is the meanest, loudest and rowdiest bar south of the Mason-Dixon Line, and Dalton (Patrick Swayze) has... [More]',\n",
       " 'Synopsis: When a massive, unmanned locomotive roars out of control, the threat is more ominous than just a derailment. The train... [More]']"
      ]
     },
     "execution_count": 39,
     "metadata": {},
     "output_type": "execute_result"
    }
   ],
   "source": [
    "all_synos = [syno.text for syno in synos]\n",
    "all_synos[:5]"
   ]
  },
  {
   "cell_type": "code",
   "execution_count": 40,
   "id": "8ed7174d",
   "metadata": {},
   "outputs": [
    {
     "data": {
      "text/plain": [
       "10"
      ]
     },
     "execution_count": 40,
     "metadata": {},
     "output_type": "execute_result"
    }
   ],
   "source": [
    "## Cleaning the synopsis is important here\n",
    "\n",
    "com_phrase = 'Synopsis: '\n",
    "len_com = len(com_phrase)\n",
    "len_com"
   ]
  },
  {
   "cell_type": "code",
   "execution_count": 41,
   "id": "72f75da0",
   "metadata": {},
   "outputs": [
    {
     "data": {
      "text/plain": [
       "['Ray and Danny (Gregory Hines, Billy Crystal) are two Chicago police detectives hot on the trail of drug kingpin Julio... [More]',\n",
       " 'In a futuristic world, a regime has eliminated war by suppressing emotions: books, art and music are strictly forbidden and... [More]',\n",
       " 'In this visually arresting martial arts epic set in ancient China, an unnamed fighter (Jet Li) is being honored for... [More]',\n",
       " 'The Double Deuce is the meanest, loudest and rowdiest bar south of the Mason-Dixon Line, and Dalton (Patrick Swayze) has... [More]',\n",
       " 'When a massive, unmanned locomotive roars out of control, the threat is more ominous than just a derailment. The train... [More]']"
      ]
     },
     "execution_count": 41,
     "metadata": {},
     "output_type": "execute_result"
    }
   ],
   "source": [
    "syno_cleaned = [s[len_com:] if s.startswith(com_phrase) else s.text for s in all_synos]\n",
    "syno_cleaned[:5]"
   ]
  },
  {
   "cell_type": "markdown",
   "id": "a7be6a88",
   "metadata": {},
   "source": [
    "## Adjusted Score"
   ]
  },
  {
   "cell_type": "code",
   "execution_count": 42,
   "id": "5d2c59e9",
   "metadata": {},
   "outputs": [
    {
     "data": {
      "text/plain": [
       "[<div class=\"info countdown-adjusted-score\"><span class=\"descriptor\">Adjusted Score: </span>59010% <span class=\"glyphicon glyphicon-question-sign\" data-html=\"true\" data-original-title=\"The Adjusted Score comes from a weighted formula (Bayesian) that we use that accounts for variation in the number of reviews per movie.\" data-placement=\"top\" data-toggle=\"tooltip\" rel=\"tooltip\" title=\"\"></span></div>,\n",
       " <div class=\"info countdown-adjusted-score\"><span class=\"descriptor\">Adjusted Score: </span>42561% <span class=\"glyphicon glyphicon-question-sign\" data-html=\"true\" data-original-title=\"The Adjusted Score comes from a weighted formula (Bayesian) that we use that accounts for variation in the number of reviews per movie.\" data-placement=\"top\" data-toggle=\"tooltip\" rel=\"tooltip\" title=\"\"></span></div>,\n",
       " <div class=\"info countdown-adjusted-score\"><span class=\"descriptor\">Adjusted Score: </span>102651% <span class=\"glyphicon glyphicon-question-sign\" data-html=\"true\" data-original-title=\"The Adjusted Score comes from a weighted formula (Bayesian) that we use that accounts for variation in the number of reviews per movie.\" data-placement=\"top\" data-toggle=\"tooltip\" rel=\"tooltip\" title=\"\"></span></div>,\n",
       " <div class=\"info countdown-adjusted-score\"><span class=\"descriptor\">Adjusted Score: </span>39894% <span class=\"glyphicon glyphicon-question-sign\" data-html=\"true\" data-original-title=\"The Adjusted Score comes from a weighted formula (Bayesian) that we use that accounts for variation in the number of reviews per movie.\" data-placement=\"top\" data-toggle=\"tooltip\" rel=\"tooltip\" title=\"\"></span></div>,\n",
       " <div class=\"info countdown-adjusted-score\"><span class=\"descriptor\">Adjusted Score: </span>93719% <span class=\"glyphicon glyphicon-question-sign\" data-html=\"true\" data-original-title=\"The Adjusted Score comes from a weighted formula (Bayesian) that we use that accounts for variation in the number of reviews per movie.\" data-placement=\"top\" data-toggle=\"tooltip\" rel=\"tooltip\" title=\"\"></span></div>]"
      ]
     },
     "execution_count": 42,
     "metadata": {},
     "output_type": "execute_result"
    }
   ],
   "source": [
    "adj_score = [div.find('div', class_ = 'info countdown-adjusted-score') for div in divs]\n",
    "adj_score[:5]"
   ]
  },
  {
   "cell_type": "code",
   "execution_count": 43,
   "id": "6bc06cd4",
   "metadata": {},
   "outputs": [
    {
     "data": {
      "text/plain": [
       "'Adjusted Score: 59010% '"
      ]
     },
     "execution_count": 43,
     "metadata": {},
     "output_type": "execute_result"
    }
   ],
   "source": [
    "adj_score[0].text"
   ]
  },
  {
   "cell_type": "code",
   "execution_count": 44,
   "id": "b442ab68",
   "metadata": {},
   "outputs": [
    {
     "data": {
      "text/plain": [
       "['Adjusted Score: 59010% ',\n",
       " 'Adjusted Score: 42561% ',\n",
       " 'Adjusted Score: 102651% ',\n",
       " 'Adjusted Score: 39894% ',\n",
       " 'Adjusted Score: 93719% ']"
      ]
     },
     "execution_count": 44,
     "metadata": {},
     "output_type": "execute_result"
    }
   ],
   "source": [
    "adj_score = [a.text for a in adj_score]\n",
    "adj_score[:5]"
   ]
  },
  {
   "cell_type": "code",
   "execution_count": 45,
   "id": "306d63dc",
   "metadata": {},
   "outputs": [],
   "source": [
    "## We have to clean the adjusted scores\n",
    "com_phrase = 'Adjusted Score: '\n",
    "len_com = len(com_phrase)"
   ]
  },
  {
   "cell_type": "code",
   "execution_count": 46,
   "id": "6b5a9fe2",
   "metadata": {},
   "outputs": [
    {
     "data": {
      "text/plain": [
       "['59010% ', '42561% ', '102651% ', '39894% ', '93719% ']"
      ]
     },
     "execution_count": 46,
     "metadata": {},
     "output_type": "execute_result"
    }
   ],
   "source": [
    "adj_cleaned = [s[len_com:] if s.startswith(com_phrase) else s.text for s in adj_score]\n",
    "adj_cleaned[:5]"
   ]
  },
  {
   "cell_type": "code",
   "execution_count": 47,
   "id": "1eabb227",
   "metadata": {},
   "outputs": [
    {
     "data": {
      "text/plain": [
       "['59010', '42561', '102651', '39894', '93719']"
      ]
     },
     "execution_count": 47,
     "metadata": {},
     "output_type": "execute_result"
    }
   ],
   "source": [
    "adj_cleaned = [x.strip(' ').strip('%') for x in adj_cleaned]\n",
    "adj_cleaned[:5]"
   ]
  },
  {
   "cell_type": "code",
   "execution_count": 48,
   "id": "3454d91f",
   "metadata": {},
   "outputs": [
    {
     "data": {
      "text/plain": [
       "[59.01, 42.561, 102.651, 39.894, 93.719]"
      ]
     },
     "execution_count": 48,
     "metadata": {},
     "output_type": "execute_result"
    }
   ],
   "source": [
    "adj_cleaned  = [int(x) for x in adj_cleaned]\n",
    "\n",
    "adj_cleaned = [y/1000 for y in adj_cleaned]\n",
    "adj_cleaned[:5]"
   ]
  },
  {
   "cell_type": "markdown",
   "id": "34cc2f8d",
   "metadata": {},
   "source": [
    "## Repesenting the data in the structured form"
   ]
  },
  {
   "cell_type": "code",
   "execution_count": 49,
   "id": "a1c91e3e",
   "metadata": {},
   "outputs": [],
   "source": [
    "import pandas as pd"
   ]
  },
  {
   "cell_type": "code",
   "execution_count": 50,
   "id": "773710aa",
   "metadata": {},
   "outputs": [
    {
     "data": {
      "text/html": [
       "<div>\n",
       "<style scoped>\n",
       "    .dataframe tbody tr th:only-of-type {\n",
       "        vertical-align: middle;\n",
       "    }\n",
       "\n",
       "    .dataframe tbody tr th {\n",
       "        vertical-align: top;\n",
       "    }\n",
       "\n",
       "    .dataframe thead th {\n",
       "        text-align: right;\n",
       "    }\n",
       "</style>\n",
       "<table border=\"1\" class=\"dataframe\">\n",
       "  <thead>\n",
       "    <tr style=\"text-align: right;\">\n",
       "      <th></th>\n",
       "      <th>Movie Title</th>\n",
       "      <th>Year</th>\n",
       "      <th>Score</th>\n",
       "      <th>Adjusted Score</th>\n",
       "      <th>Director</th>\n",
       "      <th>Synopsis</th>\n",
       "      <th>Cast</th>\n",
       "      <th>Consensus</th>\n",
       "    </tr>\n",
       "  </thead>\n",
       "  <tbody>\n",
       "    <tr>\n",
       "      <th>0</th>\n",
       "      <td>Running Scared</td>\n",
       "      <td>1986</td>\n",
       "      <td>59</td>\n",
       "      <td>59.010</td>\n",
       "      <td>Peter Hyams</td>\n",
       "      <td>Ray and Danny (Gregory Hines, Billy Crystal) a...</td>\n",
       "      <td>Gregory Hines, Billy Crystal, Jimmy Smits, Ste...</td>\n",
       "      <td>Running Scared struggles to strike a consisten...</td>\n",
       "    </tr>\n",
       "    <tr>\n",
       "      <th>1</th>\n",
       "      <td>Equilibrium</td>\n",
       "      <td>2002</td>\n",
       "      <td>40</td>\n",
       "      <td>42.561</td>\n",
       "      <td>Kurt Wimmer</td>\n",
       "      <td>In a futuristic world, a regime has eliminated...</td>\n",
       "      <td>Christian Bale, Emily Watson, Taye Diggs, Angu...</td>\n",
       "      <td>Equilibrium is a reheated mishmash of other sc...</td>\n",
       "    </tr>\n",
       "    <tr>\n",
       "      <th>2</th>\n",
       "      <td>Hero</td>\n",
       "      <td>2002</td>\n",
       "      <td>94</td>\n",
       "      <td>102.651</td>\n",
       "      <td>Zhang Yimou</td>\n",
       "      <td>In this visually arresting martial arts epic s...</td>\n",
       "      <td>Jet Li, Tony Leung Chiu Wai, Maggie Cheung Man...</td>\n",
       "      <td>With death-defying action sequences and epic h...</td>\n",
       "    </tr>\n",
       "    <tr>\n",
       "      <th>3</th>\n",
       "      <td>Road House</td>\n",
       "      <td>1989</td>\n",
       "      <td>37</td>\n",
       "      <td>39.894</td>\n",
       "      <td>Rowdy Herrington</td>\n",
       "      <td>The Double Deuce is the meanest, loudest and r...</td>\n",
       "      <td>Patrick Swayze, Kelly Lynch, Sam Elliott, Ben ...</td>\n",
       "      <td>Whether Road House is simply bad or so bad it'...</td>\n",
       "    </tr>\n",
       "    <tr>\n",
       "      <th>4</th>\n",
       "      <td>Unstoppable</td>\n",
       "      <td>2010</td>\n",
       "      <td>87</td>\n",
       "      <td>93.719</td>\n",
       "      <td>Tony Scott</td>\n",
       "      <td>When a massive, unmanned locomotive roars out ...</td>\n",
       "      <td>Denzel Washington, Chris Pine, Rosario Dawson,...</td>\n",
       "      <td>As fast, loud, and relentless as the train at ...</td>\n",
       "    </tr>\n",
       "    <tr>\n",
       "      <th>...</th>\n",
       "      <td>...</td>\n",
       "      <td>...</td>\n",
       "      <td>...</td>\n",
       "      <td>...</td>\n",
       "      <td>...</td>\n",
       "      <td>...</td>\n",
       "      <td>...</td>\n",
       "      <td>...</td>\n",
       "    </tr>\n",
       "    <tr>\n",
       "      <th>135</th>\n",
       "      <td>Hard-Boiled</td>\n",
       "      <td>1992</td>\n",
       "      <td>94</td>\n",
       "      <td>96.400</td>\n",
       "      <td>John Woo</td>\n",
       "      <td>A cop who loses his partner in a shoot-out wit...</td>\n",
       "      <td>Chow Yun-Fat, Bowie Lam, Philip Chan, Tony Leu...</td>\n",
       "      <td>Boasting impactful action as well as surprisin...</td>\n",
       "    </tr>\n",
       "    <tr>\n",
       "      <th>136</th>\n",
       "      <td>The Matrix</td>\n",
       "      <td>1999</td>\n",
       "      <td>88</td>\n",
       "      <td>95.079</td>\n",
       "      <td>Andy Wachowski</td>\n",
       "      <td>Neo (Keanu Reeves) believes that Morpheus (Lau...</td>\n",
       "      <td>Keanu Reeves, Laurence Fishburne, Carrie-Anne ...</td>\n",
       "      <td>Thanks to the Wachowskis' imaginative vision, ...</td>\n",
       "    </tr>\n",
       "    <tr>\n",
       "      <th>137</th>\n",
       "      <td>Terminator 2: Judgment Day</td>\n",
       "      <td>1991</td>\n",
       "      <td>93</td>\n",
       "      <td>98.088</td>\n",
       "      <td>James Cameron</td>\n",
       "      <td>In this sequel set eleven years after \"The Ter...</td>\n",
       "      <td>Arnold Schwarzenegger, Linda Hamilton, Edward ...</td>\n",
       "      <td>T2 features thrilling action sequences and eye...</td>\n",
       "    </tr>\n",
       "    <tr>\n",
       "      <th>138</th>\n",
       "      <td>Die Hard</td>\n",
       "      <td>1988</td>\n",
       "      <td>94</td>\n",
       "      <td>99.610</td>\n",
       "      <td>John McTiernan</td>\n",
       "      <td>New York City policeman John McClane (Bruce Wi...</td>\n",
       "      <td>Bruce Willis, Alan Rickman, Bonnie Bedelia, Re...</td>\n",
       "      <td>Its many imitators (and sequels) have never co...</td>\n",
       "    </tr>\n",
       "    <tr>\n",
       "      <th>139</th>\n",
       "      <td>Mad Max: Fury Road</td>\n",
       "      <td>2015</td>\n",
       "      <td>97</td>\n",
       "      <td>114.918</td>\n",
       "      <td>George Miller</td>\n",
       "      <td>Years after the collapse of civilization, the ...</td>\n",
       "      <td>Tom Hardy, Charlize Theron, Nicholas Hoult, Hu...</td>\n",
       "      <td>With exhilarating action and a surprising amou...</td>\n",
       "    </tr>\n",
       "  </tbody>\n",
       "</table>\n",
       "<p>140 rows × 8 columns</p>\n",
       "</div>"
      ],
      "text/plain": [
       "                    Movie Title  Year  Score  Adjusted Score  \\\n",
       "0                Running Scared  1986     59          59.010   \n",
       "1                   Equilibrium  2002     40          42.561   \n",
       "2                          Hero  2002     94         102.651   \n",
       "3                    Road House  1989     37          39.894   \n",
       "4                   Unstoppable  2010     87          93.719   \n",
       "..                          ...   ...    ...             ...   \n",
       "135                 Hard-Boiled  1992     94          96.400   \n",
       "136                  The Matrix  1999     88          95.079   \n",
       "137  Terminator 2: Judgment Day  1991     93          98.088   \n",
       "138                    Die Hard  1988     94          99.610   \n",
       "139          Mad Max: Fury Road  2015     97         114.918   \n",
       "\n",
       "             Director                                           Synopsis  \\\n",
       "0         Peter Hyams  Ray and Danny (Gregory Hines, Billy Crystal) a...   \n",
       "1         Kurt Wimmer  In a futuristic world, a regime has eliminated...   \n",
       "2         Zhang Yimou  In this visually arresting martial arts epic s...   \n",
       "3    Rowdy Herrington  The Double Deuce is the meanest, loudest and r...   \n",
       "4          Tony Scott  When a massive, unmanned locomotive roars out ...   \n",
       "..                ...                                                ...   \n",
       "135          John Woo  A cop who loses his partner in a shoot-out wit...   \n",
       "136    Andy Wachowski  Neo (Keanu Reeves) believes that Morpheus (Lau...   \n",
       "137     James Cameron  In this sequel set eleven years after \"The Ter...   \n",
       "138    John McTiernan  New York City policeman John McClane (Bruce Wi...   \n",
       "139     George Miller  Years after the collapse of civilization, the ...   \n",
       "\n",
       "                                                  Cast  \\\n",
       "0    Gregory Hines, Billy Crystal, Jimmy Smits, Ste...   \n",
       "1    Christian Bale, Emily Watson, Taye Diggs, Angu...   \n",
       "2    Jet Li, Tony Leung Chiu Wai, Maggie Cheung Man...   \n",
       "3    Patrick Swayze, Kelly Lynch, Sam Elliott, Ben ...   \n",
       "4    Denzel Washington, Chris Pine, Rosario Dawson,...   \n",
       "..                                                 ...   \n",
       "135  Chow Yun-Fat, Bowie Lam, Philip Chan, Tony Leu...   \n",
       "136  Keanu Reeves, Laurence Fishburne, Carrie-Anne ...   \n",
       "137  Arnold Schwarzenegger, Linda Hamilton, Edward ...   \n",
       "138  Bruce Willis, Alan Rickman, Bonnie Bedelia, Re...   \n",
       "139  Tom Hardy, Charlize Theron, Nicholas Hoult, Hu...   \n",
       "\n",
       "                                             Consensus  \n",
       "0    Running Scared struggles to strike a consisten...  \n",
       "1    Equilibrium is a reheated mishmash of other sc...  \n",
       "2    With death-defying action sequences and epic h...  \n",
       "3    Whether Road House is simply bad or so bad it'...  \n",
       "4    As fast, loud, and relentless as the train at ...  \n",
       "..                                                 ...  \n",
       "135  Boasting impactful action as well as surprisin...  \n",
       "136  Thanks to the Wachowskis' imaginative vision, ...  \n",
       "137  T2 features thrilling action sequences and eye...  \n",
       "138  Its many imitators (and sequels) have never co...  \n",
       "139  With exhilarating action and a surprising amou...  \n",
       "\n",
       "[140 rows x 8 columns]"
      ]
     },
     "execution_count": 50,
     "metadata": {},
     "output_type": "execute_result"
    }
   ],
   "source": [
    "movies_info = pd.DataFrame()\n",
    "\n",
    "movies_info['Movie Title'] = movie_names\n",
    "movies_info['Year'] = years\n",
    "movies_info['Score'] = scores\n",
    "movies_info['Adjusted Score'] = adj_cleaned\n",
    "movies_info['Director'] = directors\n",
    "movies_info['Synopsis'] = syno_cleaned\n",
    "movies_info['Cast'] = cast\n",
    "movies_info['Consensus'] = consensus_text\n",
    "\n",
    "movies_info"
   ]
  },
  {
   "cell_type": "code",
   "execution_count": 51,
   "id": "15f1c427",
   "metadata": {},
   "outputs": [
    {
     "data": {
      "text/html": [
       "<div>\n",
       "<style scoped>\n",
       "    .dataframe tbody tr th:only-of-type {\n",
       "        vertical-align: middle;\n",
       "    }\n",
       "\n",
       "    .dataframe tbody tr th {\n",
       "        vertical-align: top;\n",
       "    }\n",
       "\n",
       "    .dataframe thead th {\n",
       "        text-align: right;\n",
       "    }\n",
       "</style>\n",
       "<table border=\"1\" class=\"dataframe\">\n",
       "  <thead>\n",
       "    <tr style=\"text-align: right;\">\n",
       "      <th></th>\n",
       "      <th>Movie Title</th>\n",
       "      <th>Year</th>\n",
       "      <th>Score</th>\n",
       "      <th>Adjusted Score</th>\n",
       "      <th>Director</th>\n",
       "      <th>Synopsis</th>\n",
       "      <th>Cast</th>\n",
       "      <th>Consensus</th>\n",
       "    </tr>\n",
       "  </thead>\n",
       "  <tbody>\n",
       "    <tr>\n",
       "      <th>0</th>\n",
       "      <td>Running Scared</td>\n",
       "      <td>1986</td>\n",
       "      <td>59</td>\n",
       "      <td>59.010</td>\n",
       "      <td>Peter Hyams</td>\n",
       "      <td>Ray and Danny (Gregory Hines, Billy Crystal) are two Chicago police detectives hot on the trail of drug kingpin Julio... [More]</td>\n",
       "      <td>Gregory Hines, Billy Crystal, Jimmy Smits, Steven Bauer</td>\n",
       "      <td>Running Scared struggles to strike a consistent balance between violent action and humor, but the chemistry between its well-matched leads keeps things entertaining.</td>\n",
       "    </tr>\n",
       "    <tr>\n",
       "      <th>1</th>\n",
       "      <td>Equilibrium</td>\n",
       "      <td>2002</td>\n",
       "      <td>40</td>\n",
       "      <td>42.561</td>\n",
       "      <td>Kurt Wimmer</td>\n",
       "      <td>In a futuristic world, a regime has eliminated war by suppressing emotions: books, art and music are strictly forbidden and... [More]</td>\n",
       "      <td>Christian Bale, Emily Watson, Taye Diggs, Angus Macfadyen</td>\n",
       "      <td>Equilibrium is a reheated mishmash of other sci-fi movies.</td>\n",
       "    </tr>\n",
       "    <tr>\n",
       "      <th>2</th>\n",
       "      <td>Hero</td>\n",
       "      <td>2002</td>\n",
       "      <td>94</td>\n",
       "      <td>102.651</td>\n",
       "      <td>Zhang Yimou</td>\n",
       "      <td>In this visually arresting martial arts epic set in ancient China, an unnamed fighter (Jet Li) is being honored for... [More]</td>\n",
       "      <td>Jet Li, Tony Leung Chiu Wai, Maggie Cheung Man-yuk, Donnie Yen</td>\n",
       "      <td>With death-defying action sequences and epic historic sweep, Hero offers everything a martial arts fan could ask for.</td>\n",
       "    </tr>\n",
       "    <tr>\n",
       "      <th>3</th>\n",
       "      <td>Road House</td>\n",
       "      <td>1989</td>\n",
       "      <td>37</td>\n",
       "      <td>39.894</td>\n",
       "      <td>Rowdy Herrington</td>\n",
       "      <td>The Double Deuce is the meanest, loudest and rowdiest bar south of the Mason-Dixon Line, and Dalton (Patrick Swayze) has... [More]</td>\n",
       "      <td>Patrick Swayze, Kelly Lynch, Sam Elliott, Ben Gazzara</td>\n",
       "      <td>Whether Road House is simply bad or so bad it's good depends largely on the audience's fondness for Swayze -- and tolerance for violently cheesy action.</td>\n",
       "    </tr>\n",
       "    <tr>\n",
       "      <th>4</th>\n",
       "      <td>Unstoppable</td>\n",
       "      <td>2010</td>\n",
       "      <td>87</td>\n",
       "      <td>93.719</td>\n",
       "      <td>Tony Scott</td>\n",
       "      <td>When a massive, unmanned locomotive roars out of control, the threat is more ominous than just a derailment. The train... [More]</td>\n",
       "      <td>Denzel Washington, Chris Pine, Rosario Dawson, Kevin Dunn</td>\n",
       "      <td>As fast, loud, and relentless as the train at the center of the story, Unstoppable is perfect popcorn entertainment -- and director Tony Scott's best movie in years.</td>\n",
       "    </tr>\n",
       "    <tr>\n",
       "      <th>...</th>\n",
       "      <td>...</td>\n",
       "      <td>...</td>\n",
       "      <td>...</td>\n",
       "      <td>...</td>\n",
       "      <td>...</td>\n",
       "      <td>...</td>\n",
       "      <td>...</td>\n",
       "      <td>...</td>\n",
       "    </tr>\n",
       "    <tr>\n",
       "      <th>135</th>\n",
       "      <td>Hard-Boiled</td>\n",
       "      <td>1992</td>\n",
       "      <td>94</td>\n",
       "      <td>96.400</td>\n",
       "      <td>John Woo</td>\n",
       "      <td>A cop who loses his partner in a shoot-out with gun smugglers goes on a mission to catch them. In... [More]</td>\n",
       "      <td>Chow Yun-Fat, Bowie Lam, Philip Chan, Tony Leung Chiu Wai</td>\n",
       "      <td>Boasting impactful action as well as surprising emotional resonance, Hard Boiled is a powerful thriller that hits hard in more ways than one.</td>\n",
       "    </tr>\n",
       "    <tr>\n",
       "      <th>136</th>\n",
       "      <td>The Matrix</td>\n",
       "      <td>1999</td>\n",
       "      <td>88</td>\n",
       "      <td>95.079</td>\n",
       "      <td>Andy Wachowski</td>\n",
       "      <td>Neo (Keanu Reeves) believes that Morpheus (Laurence Fishburne), an elusive figure considered to be the most dangerous man alive, can... [More]</td>\n",
       "      <td>Keanu Reeves, Laurence Fishburne, Carrie-Anne Moss, Hugo Weaving</td>\n",
       "      <td>Thanks to the Wachowskis' imaginative vision, The Matrix is a smartly crafted combination of spectacular action and groundbreaking special effects.</td>\n",
       "    </tr>\n",
       "    <tr>\n",
       "      <th>137</th>\n",
       "      <td>Terminator 2: Judgment Day</td>\n",
       "      <td>1991</td>\n",
       "      <td>93</td>\n",
       "      <td>98.088</td>\n",
       "      <td>James Cameron</td>\n",
       "      <td>In this sequel set eleven years after \"The Terminator,\" young John Connor (Edward Furlong), the key to civilization's victory over... [More]</td>\n",
       "      <td>Arnold Schwarzenegger, Linda Hamilton, Edward Furlong, Robert Patrick</td>\n",
       "      <td>T2 features thrilling action sequences and eye-popping visual effects, but what takes this sci-fi/ action landmark to the next level is the depth of the human (and cyborg) characters.</td>\n",
       "    </tr>\n",
       "    <tr>\n",
       "      <th>138</th>\n",
       "      <td>Die Hard</td>\n",
       "      <td>1988</td>\n",
       "      <td>94</td>\n",
       "      <td>99.610</td>\n",
       "      <td>John McTiernan</td>\n",
       "      <td>New York City policeman John McClane (Bruce Willis) is visiting his estranged wife (Bonnie Bedelia) and two daughters on Christmas... [More]</td>\n",
       "      <td>Bruce Willis, Alan Rickman, Bonnie Bedelia, Reginald VelJohnson</td>\n",
       "      <td>Its many imitators (and sequels) have never come close to matching the taut thrills of the definitive holiday action classic.</td>\n",
       "    </tr>\n",
       "    <tr>\n",
       "      <th>139</th>\n",
       "      <td>Mad Max: Fury Road</td>\n",
       "      <td>2015</td>\n",
       "      <td>97</td>\n",
       "      <td>114.918</td>\n",
       "      <td>George Miller</td>\n",
       "      <td>Years after the collapse of civilization, the tyrannical Immortan Joe enslaves apocalypse survivors inside the desert fortress the Citadel. When... [More]</td>\n",
       "      <td>Tom Hardy, Charlize Theron, Nicholas Hoult, Hugh Keays-Byrne</td>\n",
       "      <td>With exhilarating action and a surprising amount of narrative heft, Mad Max: Fury Road brings George Miller's post-apocalyptic franchise roaring vigorously back to life.</td>\n",
       "    </tr>\n",
       "  </tbody>\n",
       "</table>\n",
       "<p>140 rows × 8 columns</p>\n",
       "</div>"
      ],
      "text/plain": [
       "                    Movie Title  Year  Score  Adjusted Score  \\\n",
       "0                Running Scared  1986     59          59.010   \n",
       "1                   Equilibrium  2002     40          42.561   \n",
       "2                          Hero  2002     94         102.651   \n",
       "3                    Road House  1989     37          39.894   \n",
       "4                   Unstoppable  2010     87          93.719   \n",
       "..                          ...   ...    ...             ...   \n",
       "135                 Hard-Boiled  1992     94          96.400   \n",
       "136                  The Matrix  1999     88          95.079   \n",
       "137  Terminator 2: Judgment Day  1991     93          98.088   \n",
       "138                    Die Hard  1988     94          99.610   \n",
       "139          Mad Max: Fury Road  2015     97         114.918   \n",
       "\n",
       "             Director  \\\n",
       "0         Peter Hyams   \n",
       "1         Kurt Wimmer   \n",
       "2         Zhang Yimou   \n",
       "3    Rowdy Herrington   \n",
       "4          Tony Scott   \n",
       "..                ...   \n",
       "135          John Woo   \n",
       "136    Andy Wachowski   \n",
       "137     James Cameron   \n",
       "138    John McTiernan   \n",
       "139     George Miller   \n",
       "\n",
       "                                                                                                                                                       Synopsis  \\\n",
       "0                               Ray and Danny (Gregory Hines, Billy Crystal) are two Chicago police detectives hot on the trail of drug kingpin Julio... [More]   \n",
       "1                         In a futuristic world, a regime has eliminated war by suppressing emotions: books, art and music are strictly forbidden and... [More]   \n",
       "2                                 In this visually arresting martial arts epic set in ancient China, an unnamed fighter (Jet Li) is being honored for... [More]   \n",
       "3                            The Double Deuce is the meanest, loudest and rowdiest bar south of the Mason-Dixon Line, and Dalton (Patrick Swayze) has... [More]   \n",
       "4                              When a massive, unmanned locomotive roars out of control, the threat is more ominous than just a derailment. The train... [More]   \n",
       "..                                                                                                                                                          ...   \n",
       "135                                                 A cop who loses his partner in a shoot-out with gun smugglers goes on a mission to catch them. In... [More]   \n",
       "136              Neo (Keanu Reeves) believes that Morpheus (Laurence Fishburne), an elusive figure considered to be the most dangerous man alive, can... [More]   \n",
       "137                In this sequel set eleven years after \"The Terminator,\" young John Connor (Edward Furlong), the key to civilization's victory over... [More]   \n",
       "138                New York City policeman John McClane (Bruce Willis) is visiting his estranged wife (Bonnie Bedelia) and two daughters on Christmas... [More]   \n",
       "139  Years after the collapse of civilization, the tyrannical Immortan Joe enslaves apocalypse survivors inside the desert fortress the Citadel. When... [More]   \n",
       "\n",
       "                                                                      Cast  \\\n",
       "0                  Gregory Hines, Billy Crystal, Jimmy Smits, Steven Bauer   \n",
       "1                Christian Bale, Emily Watson, Taye Diggs, Angus Macfadyen   \n",
       "2           Jet Li, Tony Leung Chiu Wai, Maggie Cheung Man-yuk, Donnie Yen   \n",
       "3                    Patrick Swayze, Kelly Lynch, Sam Elliott, Ben Gazzara   \n",
       "4                Denzel Washington, Chris Pine, Rosario Dawson, Kevin Dunn   \n",
       "..                                                                     ...   \n",
       "135              Chow Yun-Fat, Bowie Lam, Philip Chan, Tony Leung Chiu Wai   \n",
       "136       Keanu Reeves, Laurence Fishburne, Carrie-Anne Moss, Hugo Weaving   \n",
       "137  Arnold Schwarzenegger, Linda Hamilton, Edward Furlong, Robert Patrick   \n",
       "138        Bruce Willis, Alan Rickman, Bonnie Bedelia, Reginald VelJohnson   \n",
       "139           Tom Hardy, Charlize Theron, Nicholas Hoult, Hugh Keays-Byrne   \n",
       "\n",
       "                                                                                                                                                                                   Consensus  \n",
       "0                      Running Scared struggles to strike a consistent balance between violent action and humor, but the chemistry between its well-matched leads keeps things entertaining.  \n",
       "1                                                                                                                                 Equilibrium is a reheated mishmash of other sci-fi movies.  \n",
       "2                                                                      With death-defying action sequences and epic historic sweep, Hero offers everything a martial arts fan could ask for.  \n",
       "3                                   Whether Road House is simply bad or so bad it's good depends largely on the audience's fondness for Swayze -- and tolerance for violently cheesy action.  \n",
       "4                      As fast, loud, and relentless as the train at the center of the story, Unstoppable is perfect popcorn entertainment -- and director Tony Scott's best movie in years.  \n",
       "..                                                                                                                                                                                       ...  \n",
       "135                                            Boasting impactful action as well as surprising emotional resonance, Hard Boiled is a powerful thriller that hits hard in more ways than one.  \n",
       "136                                      Thanks to the Wachowskis' imaginative vision, The Matrix is a smartly crafted combination of spectacular action and groundbreaking special effects.  \n",
       "137  T2 features thrilling action sequences and eye-popping visual effects, but what takes this sci-fi/ action landmark to the next level is the depth of the human (and cyborg) characters.  \n",
       "138                                                            Its many imitators (and sequels) have never come close to matching the taut thrills of the definitive holiday action classic.  \n",
       "139                With exhilarating action and a surprising amount of narrative heft, Mad Max: Fury Road brings George Miller's post-apocalyptic franchise roaring vigorously back to life.  \n",
       "\n",
       "[140 rows x 8 columns]"
      ]
     },
     "execution_count": 51,
     "metadata": {},
     "output_type": "execute_result"
    }
   ],
   "source": [
    "pd.set_option('display.max_colwidth', None)    ## Gives the entire view\n",
    "movies_info"
   ]
  },
  {
   "cell_type": "markdown",
   "id": "a4cea56b",
   "metadata": {},
   "source": [
    "## Exporting Data to CSV"
   ]
  },
  {
   "cell_type": "code",
   "execution_count": 52,
   "id": "ef9169bb",
   "metadata": {},
   "outputs": [],
   "source": [
    "# movies_info.to_csv('movies_info.csv', index = False, header = True)"
   ]
  }
 ],
 "metadata": {
  "kernelspec": {
   "display_name": "Python 3",
   "language": "python",
   "name": "python3"
  },
  "language_info": {
   "codemirror_mode": {
    "name": "ipython",
    "version": 3
   },
   "file_extension": ".py",
   "mimetype": "text/x-python",
   "name": "python",
   "nbconvert_exporter": "python",
   "pygments_lexer": "ipython3",
   "version": "3.8.8"
  }
 },
 "nbformat": 4,
 "nbformat_minor": 5
}
